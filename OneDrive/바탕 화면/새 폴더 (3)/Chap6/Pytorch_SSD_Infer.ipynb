{
  "nbformat": 4,
  "nbformat_minor": 0,
  "metadata": {
    "colab": {
      "name": "Pytorch_SSD_Infer.ipynb",
      "private_outputs": true,
      "provenance": [],
      "collapsed_sections": []
    },
    "kernelspec": {
      "name": "python3",
      "display_name": "Python 3"
    },
    "language_info": {
      "name": "python"
    },
    "accelerator": "GPU"
  },
  "cells": [
    {
      "cell_type": "code",
      "metadata": {
        "id": "r-7I0YF9aEu5"
      },
      "source": [
        "from google.colab import drive\n",
        "\n",
        "drive.mount('/content/gdrive')"
      ],
      "execution_count": null,
      "outputs": []
    },
    {
      "cell_type": "code",
      "source": [
        "ls /content/gdrive"
      ],
      "metadata": {
        "id": "kTFMjCfZjMnh"
      },
      "execution_count": null,
      "outputs": []
    },
    {
      "cell_type": "code",
      "metadata": {
        "id": "bjmADx0Faew9"
      },
      "source": [
        "cd /content/gdrive/MyDrive/ssd/"
      ],
      "execution_count": null,
      "outputs": []
    },
    {
      "cell_type": "code",
      "metadata": {
        "id": "C3FaASk1dKiN"
      },
      "source": [
        "#2. 구글 드라이브 디렉토리 확인 및 이동\n",
        "!pwd"
      ],
      "execution_count": null,
      "outputs": []
    },
    {
      "cell_type": "code",
      "metadata": {
        "id": "_Mg8SOJae4Y6"
      },
      "source": [
        "cd pytorch-ssd/"
      ],
      "execution_count": null,
      "outputs": []
    },
    {
      "cell_type": "code",
      "metadata": {
        "id": "EF_Hug-LgSYK"
      },
      "source": [
        "import torch\n",
        "print(torch.__version__)"
      ],
      "execution_count": null,
      "outputs": []
    },
    {
      "cell_type": "code",
      "source": [
        "#3. GPU 사용 체크\n",
        "is_cuda = False\n",
        "if torch.cuda.is_available():\n",
        "    is_cuda = True"
      ],
      "metadata": {
        "id": "A9VnAx0Elhvg"
      },
      "execution_count": null,
      "outputs": []
    },
    {
      "cell_type": "code",
      "metadata": {
        "id": "2u_RJyHYUq6K"
      },
      "source": [
        "#4. 이미지 보여주는 함수\n",
        "def imShow(path):\n",
        "  import cv2\n",
        "  import matplotlib.pyplot as plt\n",
        "  %matplotlib inline\n",
        "\n",
        "  image = cv2.imread(path)\n",
        "  height, width = image.shape[:2]\n",
        "  resized_image = cv2.resize(image,(3*width, 3*height), interpolation = cv2.INTER_CUBIC)\n",
        "\n",
        "  fig = plt.gcf()\n",
        "  fig.set_size_inches(18, 10)\n",
        "  plt.axis(\"off\")\n",
        "  plt.imshow(cv2.cvtColor(resized_image, cv2.COLOR_BGR2RGB))\n",
        "  plt.show()"
      ],
      "execution_count": null,
      "outputs": []
    },
    {
      "cell_type": "markdown",
      "metadata": {
        "id": "YosiUH9krgoe"
      },
      "source": [
        "이전 예제에서 학습시킨 모델 파일들 보기"
      ]
    },
    {
      "cell_type": "code",
      "metadata": {
        "id": "9uVkH6aOJl1l"
      },
      "source": [
        "#5. 모델 파일 이름들 보기 \n",
        "!ls -al models/cctv"
      ],
      "execution_count": null,
      "outputs": []
    },
    {
      "cell_type": "markdown",
      "source": [
        "가장 오래 학습한 모델 파일만 보기"
      ],
      "metadata": {
        "id": "WTA3oCo5xBod"
      }
    },
    {
      "cell_type": "code",
      "metadata": {
        "id": "UCgGgGVts2K2"
      },
      "source": [
        "!ls -al models/cctv/mb1-ssd-Epoch-34*"
      ],
      "execution_count": null,
      "outputs": []
    },
    {
      "cell_type": "markdown",
      "metadata": {
        "id": "X3qu1pfBtx6u"
      },
      "source": [
        "이 중 Loss가 낮은 파일의 이름을 복사해서 아래 코드의 [34번째 모델 파일 이름]을지우고 붙혀넣기 한 다음 코드를 실행시켜서 mb1-ssd-cctv.pth 로 변경하세요.\n",
        "\n"
      ]
    },
    {
      "cell_type": "code",
      "metadata": {
        "id": "WNRcYPj5uBDu"
      },
      "source": [
        "#6. 가장 오래 학습한 파일 파일을 mb1-ssd-cctv.pth 로 변경\n",
        "!mv models/cctv/[34번째 모델 파일 이름].pth models/cctv/mb1-ssd-cctv.pth"
      ],
      "execution_count": null,
      "outputs": []
    },
    {
      "cell_type": "code",
      "metadata": {
        "id": "p10wpOAku3jO"
      },
      "source": [
        "!ls models/cctv/mb1-ssd-cctv.pth"
      ],
      "execution_count": null,
      "outputs": []
    },
    {
      "cell_type": "markdown",
      "metadata": {
        "id": "uid5GPU6ryLI"
      },
      "source": [
        "구글 드라이브로 가서 ssd/pytorch-ssd/data/cctv/test/ 폴더의 이미지 2개를 각각 testimage1.jpg, testimage2.jpg 로 rename 해줍니다."
      ]
    },
    {
      "cell_type": "code",
      "metadata": {
        "id": "WPUVuJvGldKU"
      },
      "source": [
        "!ls data/cctv/test/testimage*.jpg"
      ],
      "execution_count": null,
      "outputs": []
    },
    {
      "cell_type": "code",
      "metadata": {
        "id": "Ub8eCxuJUj5T"
      },
      "source": [
        "#7. 테스트 이미지1 보기\n",
        "imShow('data/cctv/test/testimage1.jpg')"
      ],
      "execution_count": null,
      "outputs": []
    },
    {
      "cell_type": "markdown",
      "metadata": {
        "id": "SFsXmNHstTCm"
      },
      "source": [
        "run_ssd_example.py 를 실행시키세요."
      ]
    },
    {
      "cell_type": "code",
      "metadata": {
        "id": "ChNxJLFxMRIN"
      },
      "source": [
        "#8. run_ssd_example.py 로 테스트 이미지1 추론하기\n",
        "!python3 run_ssd_example.py mb1-ssd models/cctv/mb1-ssd-cctv.pth models/cctv/labels.txt data/cctv/test/testimage1.jpg"
      ],
      "execution_count": null,
      "outputs": []
    },
    {
      "cell_type": "code",
      "metadata": {
        "id": "YP2CBE9YN377"
      },
      "source": [
        "#9. 추론된 결과 이미지 파일 보기\n",
        "imShow('run_ssd_example_output.jpg')"
      ],
      "execution_count": null,
      "outputs": []
    },
    {
      "cell_type": "code",
      "source": [
        "#10. 테스트 이미지2 보기\n",
        "imShow('data/cctv/test/testimage2.jpg')"
      ],
      "metadata": {
        "id": "nKwcE4PeKVuN"
      },
      "execution_count": null,
      "outputs": []
    },
    {
      "cell_type": "code",
      "source": [
        "#11. run_ssd_example.py 로 테스트 이미지2 추론하기\n",
        "!python3 run_ssd_example.py mb1-ssd models/cctv/mb1-ssd-cctv.pth models/cctv/labels.txt data/cctv/test/testimage2.jpg"
      ],
      "metadata": {
        "id": "K0rOphfBKfy1"
      },
      "execution_count": null,
      "outputs": []
    },
    {
      "cell_type": "code",
      "source": [
        "#12. 추론된 결과 이미지 파일 보기\n",
        "imShow('run_ssd_example_output.jpg')"
      ],
      "metadata": {
        "id": "7TB3NZEtKlPl"
      },
      "execution_count": null,
      "outputs": []
    }
  ]
}