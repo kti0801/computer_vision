{
  "cells": [
    {
      "cell_type": "markdown",
      "metadata": {
        "id": "OioRRpZUOh63"
      },
      "source": [
        "DarkNet 저장소를 복사한 후 Colab에서 쓸 수 있게 빌드합니다."
      ]
    },
    {
      "cell_type": "code",
      "execution_count": null,
      "metadata": {
        "id": "wynnf2sTOYAF"
      },
      "outputs": [],
      "source": [
        "!git clone https://github.com/jetsonai/darknet.git\n",
        "\n",
        "%cd darknet \n",
        "!sed -i 's/OPENCV=0/OPENCV=1/' Makefile\n",
        "!sed -i 's/GPU=0/GPU=1/' Makefile\n",
        "!sed -i 's/CUDNN=0/CUDNN=1/' Makefile\n",
        "!sed -i 's/LIBSO=0/LIBSO=1/' Makefile\n",
        "\n",
        "!make -j$nproc"
      ]
    },
    {
      "cell_type": "markdown",
      "metadata": {
        "id": "f0YNTGgBtd5v"
      },
      "source": [
        "COCO 데이터셋으로 훈련한 YOLOv4-tiny를 이용한 추론을 수행하기 위해 가중치를 내려받습니다."
      ]
    },
    {
      "cell_type": "code",
      "execution_count": null,
      "metadata": {
        "id": "jFRfqorMOu0Q"
      },
      "outputs": [],
      "source": [
        "!wget https://github.com/AlexeyAB/darknet/releases/download/darknet_yolo_v4_pre/yolov4-tiny.weights"
      ]
    },
    {
      "cell_type": "code",
      "execution_count": 12,
      "metadata": {
        "id": "jLW4URTXv47M"
      },
      "outputs": [],
      "source": [
        "# Colab에서 OpenCV 이미지를 보기 위한 패키지를 불러옵니다.\n",
        "import cv2\n",
        "import numpy as np\n",
        "from google.colab.patches import cv2_imshow"
      ]
    },
    {
      "cell_type": "code",
      "execution_count": 6,
      "metadata": {
        "id": "LEsgGjqOt9pE"
      },
      "outputs": [],
      "source": [
        "# darknet.py를 불러오고 이미지를 추론하기 위한 함수를 준비합니다.\n",
        "import darknet\n",
        "\n",
        "def draw_boxes(detections, image, colors):\n",
        "    origin = np.copy(image)\n",
        "    for label, confidence, bbox in detections:\n",
        "        left, top, right, bottom = darknet.bbox2points(bbox)\n",
        "        if label == \"car\":\n",
        "            print(\"car detected at {}:{} , {}:{}\".format(top, bottom, left, right))\n",
        "        elif label == \"person\":\n",
        "            print(\"person detected at {}:{} , {}:{}\".format(top, bottom, left, right))\n",
        "        cv2.rectangle(image, (left, top), (right, bottom), colors[label], 1)\n",
        "        cv2.putText(image, \"{} [{:.2f}]\".format(label, float(confidence)),\n",
        "                    (left, top - 5), cv2.FONT_HERSHEY_SIMPLEX, 0.5,\n",
        "                    colors[label], 2)\n",
        "    return image\n",
        "\n",
        "def image_detection(input_image, network, class_names, class_colors, thresh):\n",
        "    # Darknet doesn't accept numpy images.\n",
        "    # Create one with image we reuse for each detect\n",
        "    width = darknet.network_width(network)\n",
        "    height = darknet.network_height(network)\n",
        "    darknet_image = darknet.make_image(width, height, 3)\n",
        "    cv_image = []\n",
        "    if isinstance(input_image, str):\n",
        "        cv_image = cv2.imread(input_image, cv2.IMREAD_COLOR)\n",
        "    else:\n",
        "        cv_image = np.copy(input_image)\n",
        "    image_rgb = cv2.cvtColor(cv_image, cv2.COLOR_BGR2RGB)\n",
        "    image_resized = cv2.resize(image_rgb, (width, height),\n",
        "                               interpolation=cv2.INTER_LINEAR)\n",
        "\n",
        "    darknet.copy_image_from_bytes(darknet_image, image_resized.tobytes())\n",
        "    detections = darknet.detect_image(network, class_names, darknet_image, thresh=thresh)\n",
        "    darknet.free_image(darknet_image)\n",
        "    image = draw_boxes(detections, image_resized, class_colors)\n",
        "    return cv2.cvtColor(image, cv2.COLOR_BGR2RGB), detections\n"
      ]
    },
    {
      "cell_type": "code",
      "execution_count": 10,
      "metadata": {
        "id": "T50SUYKHumZk"
      },
      "outputs": [],
      "source": [
        "# COCO dataset으로 훈련된 yolov4-tiny 신경망을 준비합니다.\n",
        "config_file = \"/content/darknet/cfg/yolov4-tiny.cfg\"\n",
        "data_file = \"/content/darknet/cfg/coco.data\"\n",
        "weights = \"/content/darknet/yolov4-tiny.weights\"\n",
        "threshold = 0.25\n",
        "\n",
        "network, class_names, class_colors = darknet.load_network(\n",
        "        config_file,\n",
        "        data_file,\n",
        "        weights,\n",
        "        batch_size=1\n",
        "    )"
      ]
    },
    {
      "cell_type": "code",
      "execution_count": null,
      "metadata": {
        "id": "glMEx0TWvEtI"
      },
      "outputs": [],
      "source": [
        "# 이미지 추론을 수행합니다. result는 박스가 그려진 이미지이고, detections에는 객체 정보가 들어있습니다.\n",
        "image_path = \"/content/darknet/data/dog.jpg\"\n",
        "result, detections = image_detection(image_path, network, class_names, class_colors, threshold)\n",
        "cv2_imshow(result)\n",
        "print(detections)"
      ]
    },
    {
      "cell_type": "code",
      "execution_count": null,
      "metadata": {
        "id": "iCbNsUiUvpHy"
      },
      "outputs": [],
      "source": []
    }
  ],
  "metadata": {
    "accelerator": "GPU",
    "colab": {
      "name": "Inference_Image.ipynb",
      "provenance": []
    },
    "kernelspec": {
      "display_name": "Python 3",
      "name": "python3"
    },
    "language_info": {
      "name": "python"
    }
  },
  "nbformat": 4,
  "nbformat_minor": 0
}
